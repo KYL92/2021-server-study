{
 "cells": [
  {
   "cell_type": "code",
   "execution_count": 1,
   "metadata": {
    "ExecuteTime": {
     "end_time": "2021-01-13T15:15:41.963381Z",
     "start_time": "2021-01-13T15:15:40.325328Z"
    }
   },
   "outputs": [],
   "source": [
    "import cv2\n",
    "import torch\n",
    "import numpy as np\n",
    "import pandas as pd\n",
    "import torch.nn as nn\n",
    "from FER_model import *\n",
    "from torchvision import transforms\n",
    "import torch.utils.data as utils\n",
    "from sklearn.model_selection import train_test_split\n",
    "from PIL import Image\n",
    "from matplotlib import pyplot as plt\n",
    "\n",
    "# GPU 자원 사용확인\n",
    "devices_id = torch.device(\"cuda:0\" if torch.cuda.is_available() else \"cpu\")\n",
    "torch.cuda.set_device(\n",
    "    devices_id\n",
    ")  # fix bug for `ERROR: all tensors must be on devices[0]`\n"
   ]
  },
  {
   "cell_type": "code",
   "execution_count": 2,
   "metadata": {
    "ExecuteTime": {
     "end_time": "2021-01-13T15:16:11.026294Z",
     "start_time": "2021-01-13T15:15:41.974074Z"
    }
   },
   "outputs": [],
   "source": [
    "fer_csv = '../data/FER+/fer2013.csv'\n",
    "\n",
    "emotion_dict = {0: 'angry', 1: 'disgust', 2: 'fear', 3: 'happy',\n",
    "                4: 'sad', 5: 'surprise', 6: 'neutral'}\n",
    "\n",
    "# Step 1. Load Dataset\n",
    "def load_fer2013(fer_csv):\n",
    "    data = pd.read_csv(fer_csv)\n",
    "    pixels = data['pixels'].tolist()\n",
    "    width, height = 48, 48\n",
    "    faces = []\n",
    "    for pixel_sequence in pixels:\n",
    "        face = [int(pixel) for pixel in pixel_sequence.split(' ')]\n",
    "        face = np.asarray(face).reshape(width, height)\n",
    "        face = cv2.resize(face.astype('uint8'), (48, 48))\n",
    "        faces.append(face.astype('float32'))\n",
    "    faces = np.asarray(faces)\n",
    "    faces = np.expand_dims(faces, -1)\n",
    "    emotions = data['emotion'].values\n",
    "    return faces, emotions\n",
    "\n",
    "# Step 1. Load Dataset\n",
    "class EmotionDataset(utils.Dataset):\n",
    "    def __init__(self, X, y, transform=None):\n",
    "        self.X = X\n",
    "        self.y = y\n",
    "        self.transform = transform\n",
    "\n",
    "    def __len__(self):\n",
    "        return len(self.X)\n",
    "\n",
    "    def __getitem__(self, index):\n",
    "        x = self.X[index].reshape(48, 48)\n",
    "        x = Image.fromarray((x))\n",
    "        if self.transform is not None:\n",
    "            x = self.transform(x)\n",
    "        y = self.y[index]\n",
    "        return x, y\n",
    "\n",
    "# Step 1. Load Dataset\n",
    "faces, emotions = load_fer2013(fer_csv)\n",
    "# dataset 분할(train, validation)\n",
    "train_X, val_X, train_y, val_y = train_test_split(faces, emotions, test_size=0.2, random_state = 1, shuffle=True)\n",
    "avg_pixels = train_X.mean()\n",
    "std_pixels = train_X.std()\n",
    "# dataset augmentation\n",
    "train_transform = transforms.Compose([\n",
    "                    transforms.RandomHorizontalFlip(), # defalt p = 0.5\n",
    "                    transforms.RandomRotation(30),\n",
    "                    transforms.ToTensor(),\n",
    "                    transforms.Normalize(mean=avg_pixels, std=std_pixels)\n",
    "                    ])\n",
    "val_transform = transforms.Compose([\n",
    "                transforms.ToTensor(),\n",
    "                transforms.Normalize(mean=avg_pixels, std=std_pixels)\n",
    "                ])\n",
    "\n",
    "# Step 1. Load Dataset\n",
    "train_dataset = EmotionDataset(train_X, train_y, train_transform)\n",
    "val_dataset = EmotionDataset(val_X, val_y, val_transform)\n",
    "\n",
    "# Step 2. Make Dataset Iterable\n",
    "batch_size = 100\n",
    "\n",
    "trainloader = torch.utils.data.DataLoader(train_dataset, batch_size)\n",
    "validloader = torch.utils.data.DataLoader(val_dataset, batch_size)"
   ]
  },
  {
   "cell_type": "code",
   "execution_count": 43,
   "metadata": {},
   "outputs": [
    {
     "output_type": "execute_result",
     "data": {
      "text/plain": [
       "129.41025"
      ]
     },
     "metadata": {},
     "execution_count": 43
    }
   ],
   "source": []
  },
  {
   "cell_type": "code",
   "execution_count": 41,
   "metadata": {},
   "outputs": [
    {
     "output_type": "execute_result",
     "data": {
      "text/plain": [
       "(28709, 48, 48, 1)"
      ]
     },
     "metadata": {},
     "execution_count": 41
    }
   ],
   "source": [
    "np.shape(train_X)"
   ]
  },
  {
   "cell_type": "code",
   "execution_count": 4,
   "metadata": {},
   "outputs": [],
   "source": [
    "# 임의의 학습 이미지를 가져와서 텐서보드에 계산 그래프 추가\n",
    "dataiter = iter(trainloader)\n",
    "images, _ = dataiter.next()"
   ]
  },
  {
   "cell_type": "code",
   "execution_count": 29,
   "metadata": {},
   "outputs": [],
   "source": [
    "sample_img = train_dataset.__getitem__(10)"
   ]
  },
  {
   "cell_type": "code",
   "execution_count": 30,
   "metadata": {},
   "outputs": [],
   "source": [
    "trans = transforms.RandomRotation(30)"
   ]
  },
  {
   "cell_type": "code",
   "execution_count": 32,
   "metadata": {},
   "outputs": [],
   "source": [
    "transed_img = trans(sample_img[0])\n",
    "transed_img = transed_img[0].numpy()"
   ]
  },
  {
   "cell_type": "code",
   "execution_count": 33,
   "metadata": {},
   "outputs": [],
   "source": [
    "img_np = sample_img[0][0].numpy()"
   ]
  },
  {
   "cell_type": "code",
   "execution_count": 34,
   "metadata": {},
   "outputs": [
    {
     "output_type": "execute_result",
     "data": {
      "text/plain": [
       "<matplotlib.image.AxesImage at 0x7f7fd376bd60>"
      ]
     },
     "metadata": {},
     "execution_count": 34
    },
    {
     "output_type": "display_data",
     "data": {
      "text/plain": "<Figure size 432x288 with 1 Axes>",
      "image/svg+xml": "<?xml version=\"1.0\" encoding=\"utf-8\" standalone=\"no\"?>\n<!DOCTYPE svg PUBLIC \"-//W3C//DTD SVG 1.1//EN\"\n  \"http://www.w3.org/Graphics/SVG/1.1/DTD/svg11.dtd\">\n<!-- Created with matplotlib (https://matplotlib.org/) -->\n<svg height=\"250.052344pt\" version=\"1.1\" viewBox=\"0 0 251.565 250.052344\" width=\"251.565pt\" xmlns=\"http://www.w3.org/2000/svg\" xmlns:xlink=\"http://www.w3.org/1999/xlink\">\n <metadata>\n  <rdf:RDF xmlns:cc=\"http://creativecommons.org/ns#\" xmlns:dc=\"http://purl.org/dc/elements/1.1/\" xmlns:rdf=\"http://www.w3.org/1999/02/22-rdf-syntax-ns#\">\n   <cc:Work>\n    <dc:type rdf:resource=\"http://purl.org/dc/dcmitype/StillImage\"/>\n    <dc:date>2021-01-13T18:05:32.252426</dc:date>\n    <dc:format>image/svg+xml</dc:format>\n    <dc:creator>\n     <cc:Agent>\n      <dc:title>Matplotlib v3.3.3, https://matplotlib.org/</dc:title>\n     </cc:Agent>\n    </dc:creator>\n   </cc:Work>\n  </rdf:RDF>\n </metadata>\n <defs>\n  <style type=\"text/css\">*{stroke-linecap:butt;stroke-linejoin:round;}</style>\n </defs>\n <g id=\"figure_1\">\n  <g id=\"patch_1\">\n   <path d=\"M 0 250.052344 \nL 251.565 250.052344 \nL 251.565 0 \nL 0 0 \nz\n\" style=\"fill:none;\"/>\n  </g>\n  <g id=\"axes_1\">\n   <g id=\"patch_2\">\n    <path d=\"M 26.925 226.174219 \nL 244.365 226.174219 \nL 244.365 8.734219 \nL 26.925 8.734219 \nz\n\" style=\"fill:#ffffff;\"/>\n   </g>\n   <g clip-path=\"url(#p432a965c0f)\">\n    <image height=\"218\" id=\"image508477306c\" transform=\"scale(1 -1)translate(0 -218)\" width=\"218\" x=\"26.925\" xlink:href=\"data:image/png;base64,\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\" y=\"-8.174219\"/>\n   </g>\n   <g id=\"matplotlib.axis_1\">\n    <g id=\"xtick_1\">\n     <g id=\"line2d_1\">\n      <defs>\n       <path d=\"M 0 0 \nL 0 3.5 \n\" id=\"mf3dcb6043f\" style=\"stroke:#000000;stroke-width:0.8;\"/>\n      </defs>\n      <g>\n       <use style=\"stroke:#000000;stroke-width:0.8;\" x=\"29.19\" xlink:href=\"#mf3dcb6043f\" y=\"226.174219\"/>\n      </g>\n     </g>\n     <g id=\"text_1\">\n      <!-- 0 -->\n      <g transform=\"translate(26.00875 240.772656)scale(0.1 -0.1)\">\n       <defs>\n        <path d=\"M 31.78125 66.40625 \nQ 24.171875 66.40625 20.328125 58.90625 \nQ 16.5 51.421875 16.5 36.375 \nQ 16.5 21.390625 20.328125 13.890625 \nQ 24.171875 6.390625 31.78125 6.390625 \nQ 39.453125 6.390625 43.28125 13.890625 \nQ 47.125 21.390625 47.125 36.375 \nQ 47.125 51.421875 43.28125 58.90625 \nQ 39.453125 66.40625 31.78125 66.40625 \nz\nM 31.78125 74.21875 \nQ 44.046875 74.21875 50.515625 64.515625 \nQ 56.984375 54.828125 56.984375 36.375 \nQ 56.984375 17.96875 50.515625 8.265625 \nQ 44.046875 -1.421875 31.78125 -1.421875 \nQ 19.53125 -1.421875 13.0625 8.265625 \nQ 6.59375 17.96875 6.59375 36.375 \nQ 6.59375 54.828125 13.0625 64.515625 \nQ 19.53125 74.21875 31.78125 74.21875 \nz\n\" id=\"DejaVuSans-48\"/>\n       </defs>\n       <use xlink:href=\"#DejaVuSans-48\"/>\n      </g>\n     </g>\n    </g>\n    <g id=\"xtick_2\">\n     <g id=\"line2d_2\">\n      <g>\n       <use style=\"stroke:#000000;stroke-width:0.8;\" x=\"74.49\" xlink:href=\"#mf3dcb6043f\" y=\"226.174219\"/>\n      </g>\n     </g>\n     <g id=\"text_2\">\n      <!-- 10 -->\n      <g transform=\"translate(68.1275 240.772656)scale(0.1 -0.1)\">\n       <defs>\n        <path d=\"M 12.40625 8.296875 \nL 28.515625 8.296875 \nL 28.515625 63.921875 \nL 10.984375 60.40625 \nL 10.984375 69.390625 \nL 28.421875 72.90625 \nL 38.28125 72.90625 \nL 38.28125 8.296875 \nL 54.390625 8.296875 \nL 54.390625 0 \nL 12.40625 0 \nz\n\" id=\"DejaVuSans-49\"/>\n       </defs>\n       <use xlink:href=\"#DejaVuSans-49\"/>\n       <use x=\"63.623047\" xlink:href=\"#DejaVuSans-48\"/>\n      </g>\n     </g>\n    </g>\n    <g id=\"xtick_3\">\n     <g id=\"line2d_3\">\n      <g>\n       <use style=\"stroke:#000000;stroke-width:0.8;\" x=\"119.79\" xlink:href=\"#mf3dcb6043f\" y=\"226.174219\"/>\n      </g>\n     </g>\n     <g id=\"text_3\">\n      <!-- 20 -->\n      <g transform=\"translate(113.4275 240.772656)scale(0.1 -0.1)\">\n       <defs>\n        <path d=\"M 19.1875 8.296875 \nL 53.609375 8.296875 \nL 53.609375 0 \nL 7.328125 0 \nL 7.328125 8.296875 \nQ 12.9375 14.109375 22.625 23.890625 \nQ 32.328125 33.6875 34.8125 36.53125 \nQ 39.546875 41.84375 41.421875 45.53125 \nQ 43.3125 49.21875 43.3125 52.78125 \nQ 43.3125 58.59375 39.234375 62.25 \nQ 35.15625 65.921875 28.609375 65.921875 \nQ 23.96875 65.921875 18.8125 64.3125 \nQ 13.671875 62.703125 7.8125 59.421875 \nL 7.8125 69.390625 \nQ 13.765625 71.78125 18.9375 73 \nQ 24.125 74.21875 28.421875 74.21875 \nQ 39.75 74.21875 46.484375 68.546875 \nQ 53.21875 62.890625 53.21875 53.421875 \nQ 53.21875 48.921875 51.53125 44.890625 \nQ 49.859375 40.875 45.40625 35.40625 \nQ 44.1875 33.984375 37.640625 27.21875 \nQ 31.109375 20.453125 19.1875 8.296875 \nz\n\" id=\"DejaVuSans-50\"/>\n       </defs>\n       <use xlink:href=\"#DejaVuSans-50\"/>\n       <use x=\"63.623047\" xlink:href=\"#DejaVuSans-48\"/>\n      </g>\n     </g>\n    </g>\n    <g id=\"xtick_4\">\n     <g id=\"line2d_4\">\n      <g>\n       <use style=\"stroke:#000000;stroke-width:0.8;\" x=\"165.09\" xlink:href=\"#mf3dcb6043f\" y=\"226.174219\"/>\n      </g>\n     </g>\n     <g id=\"text_4\">\n      <!-- 30 -->\n      <g transform=\"translate(158.7275 240.772656)scale(0.1 -0.1)\">\n       <defs>\n        <path d=\"M 40.578125 39.3125 \nQ 47.65625 37.796875 51.625 33 \nQ 55.609375 28.21875 55.609375 21.1875 \nQ 55.609375 10.40625 48.1875 4.484375 \nQ 40.765625 -1.421875 27.09375 -1.421875 \nQ 22.515625 -1.421875 17.65625 -0.515625 \nQ 12.796875 0.390625 7.625 2.203125 \nL 7.625 11.71875 \nQ 11.71875 9.328125 16.59375 8.109375 \nQ 21.484375 6.890625 26.8125 6.890625 \nQ 36.078125 6.890625 40.9375 10.546875 \nQ 45.796875 14.203125 45.796875 21.1875 \nQ 45.796875 27.640625 41.28125 31.265625 \nQ 36.765625 34.90625 28.71875 34.90625 \nL 20.21875 34.90625 \nL 20.21875 43.015625 \nL 29.109375 43.015625 \nQ 36.375 43.015625 40.234375 45.921875 \nQ 44.09375 48.828125 44.09375 54.296875 \nQ 44.09375 59.90625 40.109375 62.90625 \nQ 36.140625 65.921875 28.71875 65.921875 \nQ 24.65625 65.921875 20.015625 65.03125 \nQ 15.375 64.15625 9.8125 62.3125 \nL 9.8125 71.09375 \nQ 15.4375 72.65625 20.34375 73.4375 \nQ 25.25 74.21875 29.59375 74.21875 \nQ 40.828125 74.21875 47.359375 69.109375 \nQ 53.90625 64.015625 53.90625 55.328125 \nQ 53.90625 49.265625 50.4375 45.09375 \nQ 46.96875 40.921875 40.578125 39.3125 \nz\n\" id=\"DejaVuSans-51\"/>\n       </defs>\n       <use xlink:href=\"#DejaVuSans-51\"/>\n       <use x=\"63.623047\" xlink:href=\"#DejaVuSans-48\"/>\n      </g>\n     </g>\n    </g>\n    <g id=\"xtick_5\">\n     <g id=\"line2d_5\">\n      <g>\n       <use style=\"stroke:#000000;stroke-width:0.8;\" x=\"210.39\" xlink:href=\"#mf3dcb6043f\" y=\"226.174219\"/>\n      </g>\n     </g>\n     <g id=\"text_5\">\n      <!-- 40 -->\n      <g transform=\"translate(204.0275 240.772656)scale(0.1 -0.1)\">\n       <defs>\n        <path d=\"M 37.796875 64.3125 \nL 12.890625 25.390625 \nL 37.796875 25.390625 \nz\nM 35.203125 72.90625 \nL 47.609375 72.90625 \nL 47.609375 25.390625 \nL 58.015625 25.390625 \nL 58.015625 17.1875 \nL 47.609375 17.1875 \nL 47.609375 0 \nL 37.796875 0 \nL 37.796875 17.1875 \nL 4.890625 17.1875 \nL 4.890625 26.703125 \nz\n\" id=\"DejaVuSans-52\"/>\n       </defs>\n       <use xlink:href=\"#DejaVuSans-52\"/>\n       <use x=\"63.623047\" xlink:href=\"#DejaVuSans-48\"/>\n      </g>\n     </g>\n    </g>\n   </g>\n   <g id=\"matplotlib.axis_2\">\n    <g id=\"ytick_1\">\n     <g id=\"line2d_6\">\n      <defs>\n       <path d=\"M 0 0 \nL -3.5 0 \n\" id=\"m0290be4c4e\" style=\"stroke:#000000;stroke-width:0.8;\"/>\n      </defs>\n      <g>\n       <use style=\"stroke:#000000;stroke-width:0.8;\" x=\"26.925\" xlink:href=\"#m0290be4c4e\" y=\"10.999219\"/>\n      </g>\n     </g>\n     <g id=\"text_6\">\n      <!-- 0 -->\n      <g transform=\"translate(13.5625 14.798437)scale(0.1 -0.1)\">\n       <use xlink:href=\"#DejaVuSans-48\"/>\n      </g>\n     </g>\n    </g>\n    <g id=\"ytick_2\">\n     <g id=\"line2d_7\">\n      <g>\n       <use style=\"stroke:#000000;stroke-width:0.8;\" x=\"26.925\" xlink:href=\"#m0290be4c4e\" y=\"56.299219\"/>\n      </g>\n     </g>\n     <g id=\"text_7\">\n      <!-- 10 -->\n      <g transform=\"translate(7.2 60.098437)scale(0.1 -0.1)\">\n       <use xlink:href=\"#DejaVuSans-49\"/>\n       <use x=\"63.623047\" xlink:href=\"#DejaVuSans-48\"/>\n      </g>\n     </g>\n    </g>\n    <g id=\"ytick_3\">\n     <g id=\"line2d_8\">\n      <g>\n       <use style=\"stroke:#000000;stroke-width:0.8;\" x=\"26.925\" xlink:href=\"#m0290be4c4e\" y=\"101.599219\"/>\n      </g>\n     </g>\n     <g id=\"text_8\">\n      <!-- 20 -->\n      <g transform=\"translate(7.2 105.398437)scale(0.1 -0.1)\">\n       <use xlink:href=\"#DejaVuSans-50\"/>\n       <use x=\"63.623047\" xlink:href=\"#DejaVuSans-48\"/>\n      </g>\n     </g>\n    </g>\n    <g id=\"ytick_4\">\n     <g id=\"line2d_9\">\n      <g>\n       <use style=\"stroke:#000000;stroke-width:0.8;\" x=\"26.925\" xlink:href=\"#m0290be4c4e\" y=\"146.899219\"/>\n      </g>\n     </g>\n     <g id=\"text_9\">\n      <!-- 30 -->\n      <g transform=\"translate(7.2 150.698437)scale(0.1 -0.1)\">\n       <use xlink:href=\"#DejaVuSans-51\"/>\n       <use x=\"63.623047\" xlink:href=\"#DejaVuSans-48\"/>\n      </g>\n     </g>\n    </g>\n    <g id=\"ytick_5\">\n     <g id=\"line2d_10\">\n      <g>\n       <use style=\"stroke:#000000;stroke-width:0.8;\" x=\"26.925\" xlink:href=\"#m0290be4c4e\" y=\"192.199219\"/>\n      </g>\n     </g>\n     <g id=\"text_10\">\n      <!-- 40 -->\n      <g transform=\"translate(7.2 195.998437)scale(0.1 -0.1)\">\n       <use xlink:href=\"#DejaVuSans-52\"/>\n       <use x=\"63.623047\" xlink:href=\"#DejaVuSans-48\"/>\n      </g>\n     </g>\n    </g>\n   </g>\n   <g id=\"patch_3\">\n    <path d=\"M 26.925 226.174219 \nL 26.925 8.734219 \n\" style=\"fill:none;stroke:#000000;stroke-linecap:square;stroke-linejoin:miter;stroke-width:0.8;\"/>\n   </g>\n   <g id=\"patch_4\">\n    <path d=\"M 244.365 226.174219 \nL 244.365 8.734219 \n\" style=\"fill:none;stroke:#000000;stroke-linecap:square;stroke-linejoin:miter;stroke-width:0.8;\"/>\n   </g>\n   <g id=\"patch_5\">\n    <path d=\"M 26.925 226.174219 \nL 244.365 226.174219 \n\" style=\"fill:none;stroke:#000000;stroke-linecap:square;stroke-linejoin:miter;stroke-width:0.8;\"/>\n   </g>\n   <g id=\"patch_6\">\n    <path d=\"M 26.925 8.734219 \nL 244.365 8.734219 \n\" style=\"fill:none;stroke:#000000;stroke-linecap:square;stroke-linejoin:miter;stroke-width:0.8;\"/>\n   </g>\n  </g>\n </g>\n <defs>\n  <clipPath id=\"p432a965c0f\">\n   <rect height=\"217.44\" width=\"217.44\" x=\"26.925\" y=\"8.734219\"/>\n  </clipPath>\n </defs>\n</svg>\n",
      "image/png": "[encoded data removed]"
     },
     "metadata": {
      "needs_background": "light"
     }
    }
   ],
   "source": [
    "plt.imshow(img_np)"
   ]
  },
  {
   "cell_type": "code",
   "execution_count": 35,
   "metadata": {},
   "outputs": [
    {
     "output_type": "execute_result",
     "data": {
      "text/plain": [
       "<matplotlib.image.AxesImage at 0x7f7fd3c332b0>"
      ]
     },
     "metadata": {},
     "execution_count": 35
    },
    {
     "output_type": "display_data",
     "data": {
      "text/plain": "<Figure size 432x288 with 1 Axes>",
      "image/svg+xml": "<?xml version=\"1.0\" encoding=\"utf-8\" standalone=\"no\"?>\n<!DOCTYPE svg PUBLIC \"-//W3C//DTD SVG 1.1//EN\"\n  \"http://www.w3.org/Graphics/SVG/1.1/DTD/svg11.dtd\">\n<!-- Created with matplotlib (https://matplotlib.org/) -->\n<svg height=\"250.052344pt\" version=\"1.1\" viewBox=\"0 0 251.565 250.052344\" width=\"251.565pt\" xmlns=\"http://www.w3.org/2000/svg\" xmlns:xlink=\"http://www.w3.org/1999/xlink\">\n <metadata>\n  <rdf:RDF xmlns:cc=\"http://creativecommons.org/ns#\" xmlns:dc=\"http://purl.org/dc/elements/1.1/\" xmlns:rdf=\"http://www.w3.org/1999/02/22-rdf-syntax-ns#\">\n   <cc:Work>\n    <dc:type rdf:resource=\"http://purl.org/dc/dcmitype/StillImage\"/>\n    <dc:date>2021-01-13T18:05:32.995644</dc:date>\n    <dc:format>image/svg+xml</dc:format>\n    <dc:creator>\n     <cc:Agent>\n      <dc:title>Matplotlib v3.3.3, https://matplotlib.org/</dc:title>\n     </cc:Agent>\n    </dc:creator>\n   </cc:Work>\n  </rdf:RDF>\n </metadata>\n <defs>\n  <style type=\"text/css\">*{stroke-linecap:butt;stroke-linejoin:round;}</style>\n </defs>\n <g id=\"figure_1\">\n  <g id=\"patch_1\">\n   <path d=\"M 0 250.052344 \nL 251.565 250.052344 \nL 251.565 0 \nL 0 0 \nz\n\" style=\"fill:none;\"/>\n  </g>\n  <g id=\"axes_1\">\n   <g id=\"patch_2\">\n    <path d=\"M 26.925 226.174219 \nL 244.365 226.174219 \nL 244.365 8.734219 \nL 26.925 8.734219 \nz\n\" style=\"fill:#ffffff;\"/>\n   </g>\n   <g clip-path=\"url(#p824399424d)\">\n    <image height=\"218\" id=\"image54f2a609c3\" transform=\"scale(1 -1)translate(0 -218)\" width=\"218\" x=\"26.925\" xlink:href=\"data:image/png;base64,\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\" y=\"-8.174219\"/>\n   </g>\n   <g id=\"matplotlib.axis_1\">\n    <g id=\"xtick_1\">\n     <g id=\"line2d_1\">\n      <defs>\n       <path d=\"M 0 0 \nL 0 3.5 \n\" id=\"m5ed809b78e\" style=\"stroke:#000000;stroke-width:0.8;\"/>\n      </defs>\n      <g>\n       <use style=\"stroke:#000000;stroke-width:0.8;\" x=\"29.19\" xlink:href=\"#m5ed809b78e\" y=\"226.174219\"/>\n      </g>\n     </g>\n     <g id=\"text_1\">\n      <!-- 0 -->\n      <g transform=\"translate(26.00875 240.772656)scale(0.1 -0.1)\">\n       <defs>\n        <path d=\"M 31.78125 66.40625 \nQ 24.171875 66.40625 20.328125 58.90625 \nQ 16.5 51.421875 16.5 36.375 \nQ 16.5 21.390625 20.328125 13.890625 \nQ 24.171875 6.390625 31.78125 6.390625 \nQ 39.453125 6.390625 43.28125 13.890625 \nQ 47.125 21.390625 47.125 36.375 \nQ 47.125 51.421875 43.28125 58.90625 \nQ 39.453125 66.40625 31.78125 66.40625 \nz\nM 31.78125 74.21875 \nQ 44.046875 74.21875 50.515625 64.515625 \nQ 56.984375 54.828125 56.984375 36.375 \nQ 56.984375 17.96875 50.515625 8.265625 \nQ 44.046875 -1.421875 31.78125 -1.421875 \nQ 19.53125 -1.421875 13.0625 8.265625 \nQ 6.59375 17.96875 6.59375 36.375 \nQ 6.59375 54.828125 13.0625 64.515625 \nQ 19.53125 74.21875 31.78125 74.21875 \nz\n\" id=\"DejaVuSans-48\"/>\n       </defs>\n       <use xlink:href=\"#DejaVuSans-48\"/>\n      </g>\n     </g>\n    </g>\n    <g id=\"xtick_2\">\n     <g id=\"line2d_2\">\n      <g>\n       <use style=\"stroke:#000000;stroke-width:0.8;\" x=\"74.49\" xlink:href=\"#m5ed809b78e\" y=\"226.174219\"/>\n      </g>\n     </g>\n     <g id=\"text_2\">\n      <!-- 10 -->\n      <g transform=\"translate(68.1275 240.772656)scale(0.1 -0.1)\">\n       <defs>\n        <path d=\"M 12.40625 8.296875 \nL 28.515625 8.296875 \nL 28.515625 63.921875 \nL 10.984375 60.40625 \nL 10.984375 69.390625 \nL 28.421875 72.90625 \nL 38.28125 72.90625 \nL 38.28125 8.296875 \nL 54.390625 8.296875 \nL 54.390625 0 \nL 12.40625 0 \nz\n\" id=\"DejaVuSans-49\"/>\n       </defs>\n       <use xlink:href=\"#DejaVuSans-49\"/>\n       <use x=\"63.623047\" xlink:href=\"#DejaVuSans-48\"/>\n      </g>\n     </g>\n    </g>\n    <g id=\"xtick_3\">\n     <g id=\"line2d_3\">\n      <g>\n       <use style=\"stroke:#000000;stroke-width:0.8;\" x=\"119.79\" xlink:href=\"#m5ed809b78e\" y=\"226.174219\"/>\n      </g>\n     </g>\n     <g id=\"text_3\">\n      <!-- 20 -->\n      <g transform=\"translate(113.4275 240.772656)scale(0.1 -0.1)\">\n       <defs>\n        <path d=\"M 19.1875 8.296875 \nL 53.609375 8.296875 \nL 53.609375 0 \nL 7.328125 0 \nL 7.328125 8.296875 \nQ 12.9375 14.109375 22.625 23.890625 \nQ 32.328125 33.6875 34.8125 36.53125 \nQ 39.546875 41.84375 41.421875 45.53125 \nQ 43.3125 49.21875 43.3125 52.78125 \nQ 43.3125 58.59375 39.234375 62.25 \nQ 35.15625 65.921875 28.609375 65.921875 \nQ 23.96875 65.921875 18.8125 64.3125 \nQ 13.671875 62.703125 7.8125 59.421875 \nL 7.8125 69.390625 \nQ 13.765625 71.78125 18.9375 73 \nQ 24.125 74.21875 28.421875 74.21875 \nQ 39.75 74.21875 46.484375 68.546875 \nQ 53.21875 62.890625 53.21875 53.421875 \nQ 53.21875 48.921875 51.53125 44.890625 \nQ 49.859375 40.875 45.40625 35.40625 \nQ 44.1875 33.984375 37.640625 27.21875 \nQ 31.109375 20.453125 19.1875 8.296875 \nz\n\" id=\"DejaVuSans-50\"/>\n       </defs>\n       <use xlink:href=\"#DejaVuSans-50\"/>\n       <use x=\"63.623047\" xlink:href=\"#DejaVuSans-48\"/>\n      </g>\n     </g>\n    </g>\n    <g id=\"xtick_4\">\n     <g id=\"line2d_4\">\n      <g>\n       <use style=\"stroke:#000000;stroke-width:0.8;\" x=\"165.09\" xlink:href=\"#m5ed809b78e\" y=\"226.174219\"/>\n      </g>\n     </g>\n     <g id=\"text_4\">\n      <!-- 30 -->\n      <g transform=\"translate(158.7275 240.772656)scale(0.1 -0.1)\">\n       <defs>\n        <path d=\"M 40.578125 39.3125 \nQ 47.65625 37.796875 51.625 33 \nQ 55.609375 28.21875 55.609375 21.1875 \nQ 55.609375 10.40625 48.1875 4.484375 \nQ 40.765625 -1.421875 27.09375 -1.421875 \nQ 22.515625 -1.421875 17.65625 -0.515625 \nQ 12.796875 0.390625 7.625 2.203125 \nL 7.625 11.71875 \nQ 11.71875 9.328125 16.59375 8.109375 \nQ 21.484375 6.890625 26.8125 6.890625 \nQ 36.078125 6.890625 40.9375 10.546875 \nQ 45.796875 14.203125 45.796875 21.1875 \nQ 45.796875 27.640625 41.28125 31.265625 \nQ 36.765625 34.90625 28.71875 34.90625 \nL 20.21875 34.90625 \nL 20.21875 43.015625 \nL 29.109375 43.015625 \nQ 36.375 43.015625 40.234375 45.921875 \nQ 44.09375 48.828125 44.09375 54.296875 \nQ 44.09375 59.90625 40.109375 62.90625 \nQ 36.140625 65.921875 28.71875 65.921875 \nQ 24.65625 65.921875 20.015625 65.03125 \nQ 15.375 64.15625 9.8125 62.3125 \nL 9.8125 71.09375 \nQ 15.4375 72.65625 20.34375 73.4375 \nQ 25.25 74.21875 29.59375 74.21875 \nQ 40.828125 74.21875 47.359375 69.109375 \nQ 53.90625 64.015625 53.90625 55.328125 \nQ 53.90625 49.265625 50.4375 45.09375 \nQ 46.96875 40.921875 40.578125 39.3125 \nz\n\" id=\"DejaVuSans-51\"/>\n       </defs>\n       <use xlink:href=\"#DejaVuSans-51\"/>\n       <use x=\"63.623047\" xlink:href=\"#DejaVuSans-48\"/>\n      </g>\n     </g>\n    </g>\n    <g id=\"xtick_5\">\n     <g id=\"line2d_5\">\n      <g>\n       <use style=\"stroke:#000000;stroke-width:0.8;\" x=\"210.39\" xlink:href=\"#m5ed809b78e\" y=\"226.174219\"/>\n      </g>\n     </g>\n     <g id=\"text_5\">\n      <!-- 40 -->\n      <g transform=\"translate(204.0275 240.772656)scale(0.1 -0.1)\">\n       <defs>\n        <path d=\"M 37.796875 64.3125 \nL 12.890625 25.390625 \nL 37.796875 25.390625 \nz\nM 35.203125 72.90625 \nL 47.609375 72.90625 \nL 47.609375 25.390625 \nL 58.015625 25.390625 \nL 58.015625 17.1875 \nL 47.609375 17.1875 \nL 47.609375 0 \nL 37.796875 0 \nL 37.796875 17.1875 \nL 4.890625 17.1875 \nL 4.890625 26.703125 \nz\n\" id=\"DejaVuSans-52\"/>\n       </defs>\n       <use xlink:href=\"#DejaVuSans-52\"/>\n       <use x=\"63.623047\" xlink:href=\"#DejaVuSans-48\"/>\n      </g>\n     </g>\n    </g>\n   </g>\n   <g id=\"matplotlib.axis_2\">\n    <g id=\"ytick_1\">\n     <g id=\"line2d_6\">\n      <defs>\n       <path d=\"M 0 0 \nL -3.5 0 \n\" id=\"m2d2e282f5f\" style=\"stroke:#000000;stroke-width:0.8;\"/>\n      </defs>\n      <g>\n       <use style=\"stroke:#000000;stroke-width:0.8;\" x=\"26.925\" xlink:href=\"#m2d2e282f5f\" y=\"10.999219\"/>\n      </g>\n     </g>\n     <g id=\"text_6\">\n      <!-- 0 -->\n      <g transform=\"translate(13.5625 14.798437)scale(0.1 -0.1)\">\n       <use xlink:href=\"#DejaVuSans-48\"/>\n      </g>\n     </g>\n    </g>\n    <g id=\"ytick_2\">\n     <g id=\"line2d_7\">\n      <g>\n       <use style=\"stroke:#000000;stroke-width:0.8;\" x=\"26.925\" xlink:href=\"#m2d2e282f5f\" y=\"56.299219\"/>\n      </g>\n     </g>\n     <g id=\"text_7\">\n      <!-- 10 -->\n      <g transform=\"translate(7.2 60.098437)scale(0.1 -0.1)\">\n       <use xlink:href=\"#DejaVuSans-49\"/>\n       <use x=\"63.623047\" xlink:href=\"#DejaVuSans-48\"/>\n      </g>\n     </g>\n    </g>\n    <g id=\"ytick_3\">\n     <g id=\"line2d_8\">\n      <g>\n       <use style=\"stroke:#000000;stroke-width:0.8;\" x=\"26.925\" xlink:href=\"#m2d2e282f5f\" y=\"101.599219\"/>\n      </g>\n     </g>\n     <g id=\"text_8\">\n      <!-- 20 -->\n      <g transform=\"translate(7.2 105.398437)scale(0.1 -0.1)\">\n       <use xlink:href=\"#DejaVuSans-50\"/>\n       <use x=\"63.623047\" xlink:href=\"#DejaVuSans-48\"/>\n      </g>\n     </g>\n    </g>\n    <g id=\"ytick_4\">\n     <g id=\"line2d_9\">\n      <g>\n       <use style=\"stroke:#000000;stroke-width:0.8;\" x=\"26.925\" xlink:href=\"#m2d2e282f5f\" y=\"146.899219\"/>\n      </g>\n     </g>\n     <g id=\"text_9\">\n      <!-- 30 -->\n      <g transform=\"translate(7.2 150.698437)scale(0.1 -0.1)\">\n       <use xlink:href=\"#DejaVuSans-51\"/>\n       <use x=\"63.623047\" xlink:href=\"#DejaVuSans-48\"/>\n      </g>\n     </g>\n    </g>\n    <g id=\"ytick_5\">\n     <g id=\"line2d_10\">\n      <g>\n       <use style=\"stroke:#000000;stroke-width:0.8;\" x=\"26.925\" xlink:href=\"#m2d2e282f5f\" y=\"192.199219\"/>\n      </g>\n     </g>\n     <g id=\"text_10\">\n      <!-- 40 -->\n      <g transform=\"translate(7.2 195.998437)scale(0.1 -0.1)\">\n       <use xlink:href=\"#DejaVuSans-52\"/>\n       <use x=\"63.623047\" xlink:href=\"#DejaVuSans-48\"/>\n      </g>\n     </g>\n    </g>\n   </g>\n   <g id=\"patch_3\">\n    <path d=\"M 26.925 226.174219 \nL 26.925 8.734219 \n\" style=\"fill:none;stroke:#000000;stroke-linecap:square;stroke-linejoin:miter;stroke-width:0.8;\"/>\n   </g>\n   <g id=\"patch_4\">\n    <path d=\"M 244.365 226.174219 \nL 244.365 8.734219 \n\" style=\"fill:none;stroke:#000000;stroke-linecap:square;stroke-linejoin:miter;stroke-width:0.8;\"/>\n   </g>\n   <g id=\"patch_5\">\n    <path d=\"M 26.925 226.174219 \nL 244.365 226.174219 \n\" style=\"fill:none;stroke:#000000;stroke-linecap:square;stroke-linejoin:miter;stroke-width:0.8;\"/>\n   </g>\n   <g id=\"patch_6\">\n    <path d=\"M 26.925 8.734219 \nL 244.365 8.734219 \n\" style=\"fill:none;stroke:#000000;stroke-linecap:square;stroke-linejoin:miter;stroke-width:0.8;\"/>\n   </g>\n  </g>\n </g>\n <defs>\n  <clipPath id=\"p824399424d\">\n   <rect height=\"217.44\" width=\"217.44\" x=\"26.925\" y=\"8.734219\"/>\n  </clipPath>\n </defs>\n</svg>\n",
      "image/png": "[encoded data removed]"
     },
     "metadata": {
      "needs_background": "light"
     }
    }
   ],
   "source": [
    "plt.imshow(transed_img)"
   ]
  },
  {
   "cell_type": "code",
   "execution_count": 3,
   "metadata": {
    "ExecuteTime": {
     "end_time": "2021-01-13T15:16:13.870216Z",
     "start_time": "2021-01-13T15:16:11.027621Z"
    }
   },
   "outputs": [],
   "source": [
    "# Step 3. Create Model Class ./FER_model.py\n",
    "# Step 4. Instantiate Model Class\n",
    "model = FER_CNN()\n",
    "if devices_id == type([]):  # -> GPU\n",
    "    model = nn.DataParallel(model, device_ids=devices_id).cuda()\n",
    "else:\n",
    "    model = nn.DataParallel(model, device_ids=[devices_id]).cuda()\n",
    "\n",
    "# 임의의 학습 이미지를 가져와서 텐서보드에 계산 그래프 추가\n",
    "dataiter = iter(train_loader)\n",
    "images, _ = dataiter.next()\n",
    "\n",
    "# Step 5. Instantiate Loss Class\n",
    "criterion = torch.nn.CrossEntropyLoss()  # computes softmax and then the cross entropy\n",
    "# Step 6. Instantiate Optimizer Class\n",
    "optimizer = torch.optim.Adam(model.parameters(), lr=1e-3)"
   ]
  },
  {
   "cell_type": "code",
   "execution_count": 4,
   "metadata": {
    "ExecuteTime": {
     "start_time": "2021-01-13T15:15:38.904Z"
    },
    "tags": []
   },
   "outputs": [
    {
     "output_type": "stream",
     "name": "stdout",
     "text": [
      "[Epoch 0] [Iteration: 099/288] [Loss: 1.793] [Accuracy: 25.09]\n",
      "[Epoch 0] [Iteration: 199/288] [Loss: 1.788] [Accuracy: 27.56]\n",
      "[Epoch 1] [Iteration: 099/288] [Loss: 1.639] [Accuracy: 35.90]\n",
      "[Epoch 1] [Iteration: 199/288] [Loss: 1.685] [Accuracy: 36.92]\n",
      "[Epoch 2] [Iteration: 099/288] [Loss: 1.570] [Accuracy: 39.13]\n",
      "[Epoch 2] [Iteration: 199/288] [Loss: 1.636] [Accuracy: 41.15]\n",
      "[Epoch 3] [Iteration: 099/288] [Loss: 1.644] [Accuracy: 42.35]\n",
      "[Epoch 3] [Iteration: 199/288] [Loss: 1.661] [Accuracy: 43.01]\n",
      "[Epoch 4] [Iteration: 099/288] [Loss: 1.384] [Accuracy: 44.50]\n",
      "[Epoch 4] [Iteration: 199/288] [Loss: 1.529] [Accuracy: 44.89]\n",
      "[Epoch 5] [Iteration: 099/288] [Loss: 1.392] [Accuracy: 46.59]\n",
      "[Epoch 5] [Iteration: 199/288] [Loss: 1.441] [Accuracy: 46.52]\n",
      "[Epoch 6] [Iteration: 099/288] [Loss: 1.384] [Accuracy: 47.37]\n",
      "[Epoch 6] [Iteration: 199/288] [Loss: 1.522] [Accuracy: 47.31]\n",
      "[Epoch 7] [Iteration: 099/288] [Loss: 1.366] [Accuracy: 48.62]\n",
      "[Epoch 7] [Iteration: 199/288] [Loss: 1.585] [Accuracy: 48.17]\n",
      "[Epoch 8] [Iteration: 099/288] [Loss: 1.358] [Accuracy: 49.02]\n",
      "[Epoch 8] [Iteration: 199/288] [Loss: 1.480] [Accuracy: 49.26]\n",
      "[Epoch 9] [Iteration: 099/288] [Loss: 1.389] [Accuracy: 50.24]\n",
      "[Epoch 9] [Iteration: 199/288] [Loss: 1.490] [Accuracy: 48.75]\n",
      "[Epoch 10] [Iteration: 099/288] [Loss: 1.252] [Accuracy: 50.13]\n",
      "[Epoch 10] [Iteration: 199/288] [Loss: 1.558] [Accuracy: 49.40]\n",
      "[Epoch 11] [Iteration: 099/288] [Loss: 1.301] [Accuracy: 49.93]\n",
      "[Epoch 11] [Iteration: 199/288] [Loss: 1.415] [Accuracy: 50.18]\n",
      "[Epoch 12] [Iteration: 099/288] [Loss: 1.233] [Accuracy: 51.03]\n",
      "[Epoch 12] [Iteration: 199/288] [Loss: 1.428] [Accuracy: 50.67]\n",
      "[Epoch 13] [Iteration: 099/288] [Loss: 1.216] [Accuracy: 50.85]\n",
      "[Epoch 13] [Iteration: 199/288] [Loss: 1.379] [Accuracy: 51.00]\n",
      "[Epoch 14] [Iteration: 099/288] [Loss: 1.213] [Accuracy: 50.70]\n",
      "[Epoch 14] [Iteration: 199/288] [Loss: 1.368] [Accuracy: 51.38]\n",
      "[Epoch 15] [Iteration: 099/288] [Loss: 1.208] [Accuracy: 51.09]\n",
      "[Epoch 15] [Iteration: 199/288] [Loss: 1.287] [Accuracy: 51.42]\n",
      "[Epoch 16] [Iteration: 099/288] [Loss: 1.227] [Accuracy: 51.80]\n",
      "[Epoch 16] [Iteration: 199/288] [Loss: 1.498] [Accuracy: 51.74]\n",
      "[Epoch 17] [Iteration: 099/288] [Loss: 1.181] [Accuracy: 52.54]\n",
      "[Epoch 17] [Iteration: 199/288] [Loss: 1.369] [Accuracy: 52.41]\n",
      "[Epoch 18] [Iteration: 099/288] [Loss: 1.201] [Accuracy: 52.44]\n",
      "[Epoch 18] [Iteration: 199/288] [Loss: 1.385] [Accuracy: 52.15]\n",
      "[Epoch 19] [Iteration: 099/288] [Loss: 1.245] [Accuracy: 53.62]\n",
      "[Epoch 19] [Iteration: 199/288] [Loss: 1.300] [Accuracy: 52.26]\n",
      "[Epoch 20] [Iteration: 099/288] [Loss: 1.121] [Accuracy: 53.73]\n",
      "[Epoch 20] [Iteration: 199/288] [Loss: 1.290] [Accuracy: 52.63]\n",
      "[Epoch 21] [Iteration: 099/288] [Loss: 1.165] [Accuracy: 53.62]\n",
      "[Epoch 21] [Iteration: 199/288] [Loss: 1.350] [Accuracy: 53.48]\n",
      "[Epoch 22] [Iteration: 099/288] [Loss: 1.123] [Accuracy: 53.47]\n",
      "[Epoch 22] [Iteration: 199/288] [Loss: 1.329] [Accuracy: 53.69]\n",
      "[Epoch 23] [Iteration: 099/288] [Loss: 1.107] [Accuracy: 53.51]\n",
      "[Epoch 23] [Iteration: 199/288] [Loss: 1.312] [Accuracy: 54.22]\n",
      "[Epoch 24] [Iteration: 099/288] [Loss: 1.175] [Accuracy: 54.33]\n",
      "[Epoch 24] [Iteration: 199/288] [Loss: 1.322] [Accuracy: 53.73]\n",
      "[Epoch 25] [Iteration: 099/288] [Loss: 1.179] [Accuracy: 55.20]\n",
      "[Epoch 25] [Iteration: 199/288] [Loss: 1.358] [Accuracy: 53.98]\n",
      "[Epoch 26] [Iteration: 099/288] [Loss: 1.170] [Accuracy: 54.76]\n",
      "[Epoch 26] [Iteration: 199/288] [Loss: 1.246] [Accuracy: 54.35]\n",
      "[Epoch 27] [Iteration: 099/288] [Loss: 1.089] [Accuracy: 54.83]\n",
      "[Epoch 27] [Iteration: 199/288] [Loss: 1.347] [Accuracy: 55.17]\n",
      "[Epoch 28] [Iteration: 099/288] [Loss: 1.095] [Accuracy: 55.54]\n",
      "[Epoch 28] [Iteration: 199/288] [Loss: 1.202] [Accuracy: 55.20]\n",
      "[Epoch 29] [Iteration: 099/288] [Loss: 1.103] [Accuracy: 54.82]\n",
      "[Epoch 29] [Iteration: 199/288] [Loss: 1.289] [Accuracy: 54.69]\n",
      "[Epoch 30] [Iteration: 099/288] [Loss: 1.164] [Accuracy: 55.75]\n",
      "[Epoch 30] [Iteration: 199/288] [Loss: 1.291] [Accuracy: 55.10]\n",
      "[Epoch 31] [Iteration: 099/288] [Loss: 1.058] [Accuracy: 55.67]\n",
      "[Epoch 31] [Iteration: 199/288] [Loss: 1.249] [Accuracy: 55.46]\n",
      "[Epoch 32] [Iteration: 099/288] [Loss: 1.191] [Accuracy: 56.26]\n",
      "[Epoch 32] [Iteration: 199/288] [Loss: 1.227] [Accuracy: 54.88]\n",
      "[Epoch 33] [Iteration: 099/288] [Loss: 1.081] [Accuracy: 55.89]\n",
      "[Epoch 33] [Iteration: 199/288] [Loss: 1.227] [Accuracy: 55.96]\n",
      "[Epoch 34] [Iteration: 099/288] [Loss: 0.993] [Accuracy: 56.37]\n",
      "[Epoch 34] [Iteration: 199/288] [Loss: 1.225] [Accuracy: 56.42]\n",
      "[Epoch 35] [Iteration: 099/288] [Loss: 1.150] [Accuracy: 56.49]\n",
      "[Epoch 35] [Iteration: 199/288] [Loss: 1.249] [Accuracy: 55.77]\n",
      "[Epoch 36] [Iteration: 099/288] [Loss: 1.076] [Accuracy: 56.38]\n",
      "[Epoch 36] [Iteration: 199/288] [Loss: 1.233] [Accuracy: 55.89]\n",
      "[Epoch 37] [Iteration: 099/288] [Loss: 1.022] [Accuracy: 56.52]\n",
      "[Epoch 37] [Iteration: 199/288] [Loss: 1.221] [Accuracy: 56.45]\n",
      "[Epoch 38] [Iteration: 099/288] [Loss: 1.066] [Accuracy: 56.45]\n",
      "[Epoch 38] [Iteration: 199/288] [Loss: 1.258] [Accuracy: 56.77]\n",
      "[Epoch 39] [Iteration: 099/288] [Loss: 1.041] [Accuracy: 56.84]\n",
      "[Epoch 39] [Iteration: 199/288] [Loss: 1.257] [Accuracy: 57.27]\n",
      "[Epoch 40] [Iteration: 099/288] [Loss: 1.133] [Accuracy: 57.52]\n",
      "[Epoch 40] [Iteration: 199/288] [Loss: 1.190] [Accuracy: 56.51]\n",
      "[Epoch 41] [Iteration: 099/288] [Loss: 1.025] [Accuracy: 56.42]\n",
      "[Epoch 41] [Iteration: 199/288] [Loss: 1.260] [Accuracy: 56.80]\n",
      "[Epoch 42] [Iteration: 099/288] [Loss: 1.020] [Accuracy: 57.04]\n",
      "[Epoch 42] [Iteration: 199/288] [Loss: 1.337] [Accuracy: 57.91]\n",
      "[Epoch 43] [Iteration: 099/288] [Loss: 1.086] [Accuracy: 57.43]\n",
      "[Epoch 43] [Iteration: 199/288] [Loss: 1.284] [Accuracy: 56.91]\n",
      "[Epoch 44] [Iteration: 099/288] [Loss: 1.091] [Accuracy: 57.16]\n",
      "[Epoch 44] [Iteration: 199/288] [Loss: 1.127] [Accuracy: 56.94]\n",
      "[Epoch 45] [Iteration: 099/288] [Loss: 1.081] [Accuracy: 57.63]\n",
      "[Epoch 45] [Iteration: 199/288] [Loss: 1.312] [Accuracy: 56.81]\n",
      "[Epoch 46] [Iteration: 099/288] [Loss: 0.993] [Accuracy: 57.33]\n",
      "[Epoch 46] [Iteration: 199/288] [Loss: 1.102] [Accuracy: 57.45]\n",
      "[Epoch 47] [Iteration: 099/288] [Loss: 1.089] [Accuracy: 56.76]\n",
      "[Epoch 47] [Iteration: 199/288] [Loss: 1.299] [Accuracy: 57.63]\n",
      "[Epoch 48] [Iteration: 099/288] [Loss: 1.102] [Accuracy: 57.69]\n",
      "[Epoch 48] [Iteration: 199/288] [Loss: 1.203] [Accuracy: 57.34]\n",
      "[Epoch 49] [Iteration: 099/288] [Loss: 1.179] [Accuracy: 57.79]\n",
      "[Epoch 49] [Iteration: 199/288] [Loss: 1.123] [Accuracy: 57.69]\n",
      "[Epoch 50] [Iteration: 099/288] [Loss: 0.977] [Accuracy: 57.79]\n",
      "[Epoch 50] [Iteration: 199/288] [Loss: 1.224] [Accuracy: 57.68]\n",
      "[Epoch 51] [Iteration: 099/288] [Loss: 1.074] [Accuracy: 57.86]\n",
      "[Epoch 51] [Iteration: 199/288] [Loss: 1.151] [Accuracy: 57.23]\n",
      "[Epoch 52] [Iteration: 099/288] [Loss: 0.950] [Accuracy: 58.01]\n",
      "[Epoch 52] [Iteration: 199/288] [Loss: 1.298] [Accuracy: 57.59]\n",
      "[Epoch 53] [Iteration: 099/288] [Loss: 0.987] [Accuracy: 57.12]\n",
      "[Epoch 53] [Iteration: 199/288] [Loss: 1.191] [Accuracy: 57.61]\n",
      "[Epoch 54] [Iteration: 099/288] [Loss: 1.032] [Accuracy: 57.97]\n",
      "[Epoch 54] [Iteration: 199/288] [Loss: 1.101] [Accuracy: 57.20]\n",
      "[Epoch 55] [Iteration: 099/288] [Loss: 0.981] [Accuracy: 58.39]\n",
      "[Epoch 55] [Iteration: 199/288] [Loss: 1.138] [Accuracy: 57.58]\n",
      "[Epoch 56] [Iteration: 099/288] [Loss: 0.925] [Accuracy: 57.69]\n",
      "[Epoch 56] [Iteration: 199/288] [Loss: 1.238] [Accuracy: 57.90]\n",
      "[Epoch 57] [Iteration: 099/288] [Loss: 1.039] [Accuracy: 58.33]\n"
     ]
    }
   ],
   "source": [
    "# Step 7. Train Model\n",
    "epochs = 300\n",
    "\n",
    "loss = 0\n",
    "total_iter = 0\n",
    "\n",
    "for epoch in range(int(epochs)):\n",
    "    iter = 0\n",
    "    for i, (images, labels) in enumerate(trainloader):\n",
    "        images = images.to(devices_id)\n",
    "        labels = labels.to(devices_id)\n",
    "        optimizer.zero_grad()\n",
    "\n",
    "        outputs = model(images)\n",
    "        # Calc loss\n",
    "        loss = criterion(outputs, labels)\n",
    "        # Back-propagation\n",
    "        loss.backward()\n",
    "        # Updating wegihts\n",
    "        optimizer.step()\n",
    "\n",
    "        total_iter += 1\n",
    "        writer.add_scalar('Train/Loss', loss, total_iter)\n",
    "\n",
    "        iter += 1\n",
    "        if iter % 100 == 0:\n",
    "            # calculate Accuracy\n",
    "            correct = 0\n",
    "            total = 0\n",
    "            for images, labels in validloader:\n",
    "                images = images.to(devices_id)\n",
    "                outputs = model(images)\n",
    "                _, predicted = torch.max(outputs.data, 1)\n",
    "                total += labels.size(0)\n",
    "                # for gpu, bring the predicted and labels back to cpu fro python operations to work\n",
    "                predicted = predicted.cpu()\n",
    "                correct += (predicted == labels).sum()\n",
    "            accuracy = 100 * correct / total\n",
    "            print(\n",
    "                f\"[Epoch {epoch}] [Iteration: {i:03d}/{len(trainloader)}] [Loss: {loss.item():.3f}] [Accuracy: {accuracy:.2f}]\"\n",
    "            )\n",
    "\n",
    "writer.close()"
   ]
  }
 ],
 "metadata": {
  "kernelspec": {
   "display_name": "Python 3",
   "language": "python",
   "name": "python3"
  },
  "language_info": {
   "codemirror_mode": {
    "name": "ipython",
    "version": 3
   },
   "file_extension": ".py",
   "mimetype": "text/x-python",
   "name": "python",
   "nbconvert_exporter": "python",
   "pygments_lexer": "ipython3",
   "version": "3.8.5-final"
  },
  "toc": {
   "base_numbering": 1,
   "nav_menu": {},
   "number_sections": false,
   "sideBar": true,
   "skip_h1_title": false,
   "title_cell": "Table of Contents",
   "title_sidebar": "Contents",
   "toc_cell": false,
   "toc_position": {},
   "toc_section_display": true,
   "toc_window_display": false
  }
 },
 "nbformat": 4,
 "nbformat_minor": 2
}