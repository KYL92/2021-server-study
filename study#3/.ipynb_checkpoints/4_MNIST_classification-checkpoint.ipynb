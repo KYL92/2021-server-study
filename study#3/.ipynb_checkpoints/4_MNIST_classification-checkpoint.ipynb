{
 "cells": [
  {
   "cell_type": "code",
   "execution_count": 1,
   "metadata": {
    "ExecuteTime": {
     "end_time": "2021-08-03T05:44:12.808844Z",
     "start_time": "2021-08-03T05:44:12.459578Z"
    }
   },
   "outputs": [],
   "source": [
    "import torch\n",
    "from torch.autograd import Variable\n",
    "import torchvision.transforms as transforms\n",
    "import torchvision.datasets as dsets\n",
    "\n",
    "# Step 1. Load Dataset\n",
    "train_dataset = dsets.MNIST(root='../data', train=True, transform=transforms.ToTensor(), download=False)\n",
    "test_dataset = dsets.MNIST(root='../data', train=False, transform=transforms.ToTensor(), download=False)\n",
    "\n",
    "# Step 2. Make Dataset Iterable\n",
    "batch_size = 100\n",
    "train_loader = torch.utils.data.DataLoader(dataset=train_dataset, batch_size=batch_size, shuffle=True)\n",
    "test_loader = torch.utils.data.DataLoader(dataset=test_dataset, batch_size=batch_size, shuffle=False)"
   ]
  },
  {
   "cell_type": "code",
   "execution_count": 2,
   "metadata": {
    "ExecuteTime": {
     "end_time": "2021-08-03T05:44:53.510116Z",
     "start_time": "2021-08-03T05:44:53.507160Z"
    }
   },
   "outputs": [],
   "source": [
    "# Step 3. Create Model Class\n",
    "class LogisticRegression(torch.nn.Module):\n",
    "    def __init__(self, input_dim, output_dim):\n",
    "        super(LogisticRegression, self).__init__()\n",
    "        self.linear1 = torch.nn.Linear(input_dim, 300)\n",
    "        self.linear2 = torch.nn.Linear(300, int(input_dim/4)) #392x196\n",
    "        self.linear3 = torch.nn.Linear(int(input_dim/4), output_dim)#196x10\n",
    "        \n",
    "\n",
    "    def forward(self, x):\n",
    "        outputs = self.linear1(x)\n",
    "        outputs = self.linear2(outputs)\n",
    "        outputs = self.linear3(outputs)\n",
    "        return outputs"
   ]
  },
  {
   "cell_type": "code",
   "execution_count": 6,
   "metadata": {
    "ExecuteTime": {
     "end_time": "2021-08-03T06:01:25.148317Z",
     "start_time": "2021-08-03T06:01:25.144627Z"
    }
   },
   "outputs": [
    {
     "data": {
      "text/plain": [
       "196.0"
      ]
     },
     "execution_count": 6,
     "metadata": {},
     "output_type": "execute_result"
    }
   ],
   "source": [
    "784/4"
   ]
  },
  {
   "cell_type": "code",
   "execution_count": 4,
   "metadata": {
    "ExecuteTime": {
     "end_time": "2021-08-03T05:46:26.993916Z",
     "start_time": "2021-08-03T05:46:26.989782Z"
    },
    "tags": []
   },
   "outputs": [],
   "source": [
    "epochs = 10\n",
    "input_dim = 784\n",
    "output_dim = 10\n",
    "# [test] 만일 MSE을 LOSS 함수로 쓴다면???\n",
    "# output_dim = 1\n",
    "lr_rate = 0.01\n",
    "\n",
    "# Step 4. Instantiate Model Class\n",
    "model = LogisticRegression(input_dim, output_dim)\n",
    "# Step 5. Instantiate Loss Class\n",
    "criterion = torch.nn.CrossEntropyLoss() # computes softmax and then the cross entropy\n",
    "# [test] 만일 MSE을 LOSS 함수로 쓴다면???\n",
    "# criterion = torch.nn.MSELoss()\n",
    "# Step 6. Instantiate Optimizer Class\n",
    "optimizer = torch.optim.SGD(model.parameters(), lr=lr_rate)"
   ]
  },
  {
   "cell_type": "code",
   "execution_count": 5,
   "metadata": {
    "ExecuteTime": {
     "end_time": "2021-08-03T06:01:25.143360Z",
     "start_time": "2021-08-03T05:46:27.836181Z"
    }
   },
   "outputs": [
    {
     "name": "stdout",
     "output_type": "stream",
     "text": [
      "Iteration: 100. Loss: 2.0772619247436523. Accuracy: 56.040000915527344.\n",
      "Iteration: 200. Loss: 1.7971473932266235. Accuracy: 66.83999633789062.\n",
      "Iteration: 300. Loss: 1.4846649169921875. Accuracy: 74.72000122070312.\n",
      "Iteration: 400. Loss: 1.0817036628723145. Accuracy: 78.22000122070312.\n",
      "Iteration: 500. Loss: 0.9143922924995422. Accuracy: 81.12000274658203.\n",
      "Iteration: 600. Loss: 0.7573471665382385. Accuracy: 83.30999755859375.\n",
      "Iteration: 700. Loss: 0.7278671860694885. Accuracy: 84.36000061035156.\n",
      "Iteration: 800. Loss: 0.5382334589958191. Accuracy: 85.52999877929688.\n",
      "Iteration: 900. Loss: 0.5189386606216431. Accuracy: 86.26000213623047.\n",
      "Iteration: 1000. Loss: 0.6627865433692932. Accuracy: 86.73999786376953.\n",
      "Iteration: 1100. Loss: 0.597263753414154. Accuracy: 87.37999725341797.\n",
      "Iteration: 1200. Loss: 0.3316837549209595. Accuracy: 87.79000091552734.\n",
      "Iteration: 1300. Loss: 0.4332374632358551. Accuracy: 88.36000061035156.\n",
      "Iteration: 1400. Loss: 0.3573133945465088. Accuracy: 88.45999908447266.\n",
      "Iteration: 1500. Loss: 0.27378812432289124. Accuracy: 88.69000244140625.\n",
      "Iteration: 1600. Loss: 0.3688635230064392. Accuracy: 89.05999755859375.\n",
      "Iteration: 1700. Loss: 0.6902037262916565. Accuracy: 89.19999694824219.\n",
      "Iteration: 1800. Loss: 0.3911692500114441. Accuracy: 89.37999725341797.\n",
      "Iteration: 1900. Loss: 0.3178741931915283. Accuracy: 89.51000213623047.\n",
      "Iteration: 2000. Loss: 0.3583097755908966. Accuracy: 89.62000274658203.\n",
      "Iteration: 2100. Loss: 0.4018060266971588. Accuracy: 89.80000305175781.\n",
      "Iteration: 2200. Loss: 0.4981309771537781. Accuracy: 89.80999755859375.\n",
      "Iteration: 2300. Loss: 0.45353421568870544. Accuracy: 89.83000183105469.\n",
      "Iteration: 2400. Loss: 0.3099549412727356. Accuracy: 90.05999755859375.\n",
      "Iteration: 2500. Loss: 0.2785564661026001. Accuracy: 90.04000091552734.\n",
      "Iteration: 2600. Loss: 0.42188891768455505. Accuracy: 90.18000030517578.\n",
      "Iteration: 2700. Loss: 0.2783993184566498. Accuracy: 90.19999694824219.\n",
      "Iteration: 2800. Loss: 0.5239822268486023. Accuracy: 90.2300033569336.\n",
      "Iteration: 2900. Loss: 0.3448486328125. Accuracy: 90.5.\n",
      "Iteration: 3000. Loss: 0.24017226696014404. Accuracy: 90.63999938964844.\n",
      "Iteration: 3100. Loss: 0.5230606198310852. Accuracy: 90.62000274658203.\n",
      "Iteration: 3200. Loss: 0.28817692399024963. Accuracy: 90.61000061035156.\n",
      "Iteration: 3300. Loss: 0.23896321654319763. Accuracy: 90.76000213623047.\n",
      "Iteration: 3400. Loss: 0.30513036251068115. Accuracy: 90.8499984741211.\n",
      "Iteration: 3500. Loss: 0.34032613039016724. Accuracy: 90.81999969482422.\n",
      "Iteration: 3600. Loss: 0.41223734617233276. Accuracy: 90.91999816894531.\n",
      "Iteration: 3700. Loss: 0.280926913022995. Accuracy: 91.06999969482422.\n",
      "Iteration: 3800. Loss: 0.370037317276001. Accuracy: 91.04000091552734.\n",
      "Iteration: 3900. Loss: 0.2112870067358017. Accuracy: 91.18000030517578.\n",
      "Iteration: 4000. Loss: 0.30314627289772034. Accuracy: 91.06999969482422.\n",
      "Iteration: 4100. Loss: 0.4986368417739868. Accuracy: 91.19000244140625.\n",
      "Iteration: 4200. Loss: 0.2770496904850006. Accuracy: 91.38999938964844.\n",
      "Iteration: 4300. Loss: 0.1737590730190277. Accuracy: 91.30000305175781.\n",
      "Iteration: 4400. Loss: 0.23474282026290894. Accuracy: 91.30999755859375.\n",
      "Iteration: 4500. Loss: 0.3117509186267853. Accuracy: 91.36000061035156.\n",
      "Iteration: 4600. Loss: 0.45586925745010376. Accuracy: 91.43000030517578.\n",
      "Iteration: 4700. Loss: 0.3538287281990051. Accuracy: 91.44000244140625.\n",
      "Iteration: 4800. Loss: 0.44785308837890625. Accuracy: 91.47000122070312.\n",
      "Iteration: 4900. Loss: 0.29637613892555237. Accuracy: 91.5199966430664.\n",
      "Iteration: 5000. Loss: 0.369131475687027. Accuracy: 91.33999633789062.\n",
      "Iteration: 5100. Loss: 0.18268372118473053. Accuracy: 91.58999633789062.\n",
      "Iteration: 5200. Loss: 0.2162356823682785. Accuracy: 91.47000122070312.\n",
      "Iteration: 5300. Loss: 0.25565969944000244. Accuracy: 91.5999984741211.\n",
      "Iteration: 5400. Loss: 0.25846490263938904. Accuracy: 91.62999725341797.\n",
      "Iteration: 5500. Loss: 0.2721891403198242. Accuracy: 91.58999633789062.\n",
      "Iteration: 5600. Loss: 0.3895640969276428. Accuracy: 91.61000061035156.\n",
      "Iteration: 5700. Loss: 0.2635054290294647. Accuracy: 91.56999969482422.\n",
      "Iteration: 5800. Loss: 0.4124649465084076. Accuracy: 91.66000366210938.\n",
      "Iteration: 5900. Loss: 0.4624355733394623. Accuracy: 91.63999938964844.\n",
      "Iteration: 6000. Loss: 0.43893328309059143. Accuracy: 91.55000305175781.\n"
     ]
    }
   ],
   "source": [
    "# Step 7. Train Model\n",
    "iter = 0\n",
    "for epoch in range(int(epochs)):\n",
    "    for i, (images, labels) in enumerate(train_loader):\n",
    "        images = Variable(images.view(-1, 28 * 28))\n",
    "        labels = Variable(labels)\n",
    "\n",
    "        optimizer.zero_grad()\n",
    "        outputs = model(images)\n",
    "        # [test] 만일 MSE을 LOSS 함수로 쓴다면???\n",
    "        # labels = labels.type(torch.FloatTensor)\n",
    "        # outputs = outputs.type(torch.FloatTensor)\n",
    "        loss = criterion(outputs, labels)\n",
    "        loss.backward()\n",
    "        optimizer.step()\n",
    "\n",
    "        iter+=1\n",
    "        if iter%100==0:\n",
    "            # calculate Accuracy\n",
    "            correct = 0\n",
    "            total = 0\n",
    "            for images, labels in test_loader:\n",
    "                images = Variable(images.view(-1, 28*28))\n",
    "                outputs = model(images)\n",
    "                _, predicted = torch.max(outputs.data, 1)\n",
    "                total+= labels.size(0)\n",
    "                # for gpu, bring the predicted and labels back to cpu fro python operations to work\n",
    "                correct+= (predicted == labels).sum()\n",
    "            accuracy = 100 * correct/total\n",
    "            print(\"Iteration: {}. Loss: {}. Accuracy: {}.\".format(iter, loss.item(), accuracy))"
   ]
  },
  {
   "cell_type": "code",
   "execution_count": null,
   "metadata": {},
   "outputs": [],
   "source": []
  }
 ],
 "metadata": {
  "kernelspec": {
   "display_name": "Python 3",
   "language": "python",
   "name": "python3"
  },
  "language_info": {
   "codemirror_mode": {
    "name": "ipython",
    "version": 3
   },
   "file_extension": ".py",
   "mimetype": "text/x-python",
   "name": "python",
   "nbconvert_exporter": "python",
   "pygments_lexer": "ipython3",
   "version": "3.8.5"
  },
  "toc": {
   "base_numbering": 1,
   "nav_menu": {},
   "number_sections": false,
   "sideBar": true,
   "skip_h1_title": false,
   "title_cell": "Table of Contents",
   "title_sidebar": "Contents",
   "toc_cell": false,
   "toc_position": {},
   "toc_section_display": true,
   "toc_window_display": false
  }
 },
 "nbformat": 4,
 "nbformat_minor": 2
}
