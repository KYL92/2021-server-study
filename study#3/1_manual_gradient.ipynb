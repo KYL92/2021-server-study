{
 "metadata": {
  "language_info": {
   "codemirror_mode": {
    "name": "ipython",
    "version": 3
   },
   "file_extension": ".py",
   "mimetype": "text/x-python",
   "name": "python",
   "nbconvert_exporter": "python",
   "pygments_lexer": "ipython3",
   "version": "3.8.5-final"
  },
  "orig_nbformat": 2,
  "kernelspec": {
   "name": "python3",
   "display_name": "Python 3",
   "language": "python"
  }
 },
 "nbformat": 4,
 "nbformat_minor": 2,
 "cells": [
  {
   "cell_type": "code",
   "execution_count": 1,
   "metadata": {},
   "outputs": [],
   "source": [
    "# Training Data\n",
    "x_data = [1.0, 2.0, 3.0] # x\n",
    "y_data = [2.0, 4.0, 6.0] # label\n",
    "\n",
    "w = 1.0  # a random guess: random value"
   ]
  },
  {
   "cell_type": "code",
   "execution_count": 2,
   "metadata": {},
   "outputs": [],
   "source": [
    "# our model forward pass\n",
    "def forward(x):\n",
    "    return x * w\n",
    "\n",
    "# Loss function\n",
    "def loss(x, y):\n",
    "    y_pred = forward(x)\n",
    "    return (y_pred - y) * (y_pred - y)\n",
    "\n",
    "# compute gradient\n",
    "def gradient(x, y):  # d_loss/d_w\n",
    "    return 2 * x * (x * w - y)"
   ]
  },
  {
   "cell_type": "code",
   "execution_count": 3,
   "metadata": {},
   "outputs": [
    {
     "output_type": "stream",
     "name": "stdout",
     "text": [
      "학습 전 예측, 4 시간 공부하면? 점수는: 4.0\n"
     ]
    }
   ],
   "source": [
    "# Before training\n",
    "print(\"학습 전 예측, 4 시간 공부하면? 점수는:\", forward(4))"
   ]
  },
  {
   "cell_type": "code",
   "execution_count": 4,
   "metadata": {},
   "outputs": [
    {
     "output_type": "stream",
     "name": "stdout",
     "text": [
      "학습 전 Loss 값 4 16.0\n"
     ]
    }
   ],
   "source": [
    "# Loss Before training\n",
    "print(\"학습 전 Loss 값\",  4, loss(4, 8))"
   ]
  },
  {
   "cell_type": "code",
   "execution_count": 5,
   "metadata": {},
   "outputs": [
    {
     "output_type": "stream",
     "name": "stdout",
     "text": [
      "\tgrad:  1.0 2.0 -2.0\n\tgrad:  2.0 4.0 -7.84\n\tgrad:  3.0 6.0 -16.23\nepoch: 0 w= 1.26 loss= 4.92\n\tgrad:  1.0 2.0 -1.48\n\tgrad:  2.0 4.0 -5.8\n\tgrad:  3.0 6.0 -12.0\nepoch: 1 w= 1.45 loss= 2.69\n\tgrad:  1.0 2.0 -1.09\n\tgrad:  2.0 4.0 -4.29\n\tgrad:  3.0 6.0 -8.87\nepoch: 2 w= 1.6 loss= 1.47\n\tgrad:  1.0 2.0 -0.81\n\tgrad:  2.0 4.0 -3.17\n\tgrad:  3.0 6.0 -6.56\nepoch: 3 w= 1.7 loss= 0.8\n\tgrad:  1.0 2.0 -0.6\n\tgrad:  2.0 4.0 -2.34\n\tgrad:  3.0 6.0 -4.85\nepoch: 4 w= 1.78 loss= 0.44\n\tgrad:  1.0 2.0 -0.44\n\tgrad:  2.0 4.0 -1.73\n\tgrad:  3.0 6.0 -3.58\nepoch: 5 w= 1.84 loss= 0.24\n\tgrad:  1.0 2.0 -0.33\n\tgrad:  2.0 4.0 -1.28\n\tgrad:  3.0 6.0 -2.65\nepoch: 6 w= 1.88 loss= 0.13\n\tgrad:  1.0 2.0 -0.24\n\tgrad:  2.0 4.0 -0.95\n\tgrad:  3.0 6.0 -1.96\nepoch: 7 w= 1.91 loss= 0.07\n\tgrad:  1.0 2.0 -0.18\n\tgrad:  2.0 4.0 -0.7\n\tgrad:  3.0 6.0 -1.45\nepoch: 8 w= 1.93 loss= 0.04\n\tgrad:  1.0 2.0 -0.13\n\tgrad:  2.0 4.0 -0.52\n\tgrad:  3.0 6.0 -1.07\nepoch: 9 w= 1.95 loss= 0.02\n학습 후 예측 4 시간 공부하면? 점수는:  7.804863933862125\n"
     ]
    }
   ],
   "source": [
    "# Training loop\n",
    "for epoch in range(10):\n",
    "    for x_val, y_val in zip(x_data, y_data):\n",
    "        # Compute derivative w.r.t to the learned weights\n",
    "        # Update the weights\n",
    "        # Compute the loss and print epoch\n",
    "        grad = gradient(x_val, y_val)\n",
    "        w = w - 0.01 * grad\n",
    "        print(\"\\tgrad: \", x_val, y_val, round(grad, 2))\n",
    "        l = loss(x_val, y_val)\n",
    "    print(\"epoch:\", epoch, \"w=\", round(w, 2), \"loss=\", round(l, 2))\n",
    "\n",
    "# After training\n",
    "print(\"학습 후 예측\",  \"4 시간 공부하면? 점수는: \", forward(4))"
   ]
  }
 ]
}