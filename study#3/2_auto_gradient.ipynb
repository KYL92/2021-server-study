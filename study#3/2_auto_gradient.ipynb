{
 "metadata": {
  "language_info": {
   "codemirror_mode": {
    "name": "ipython",
    "version": 3
   },
   "file_extension": ".py",
   "mimetype": "text/x-python",
   "name": "python",
   "nbconvert_exporter": "python",
   "pygments_lexer": "ipython3",
   "version": "3.8.5-final"
  },
  "orig_nbformat": 2,
  "kernelspec": {
   "name": "python3",
   "display_name": "Python 3",
   "language": "python"
  }
 },
 "nbformat": 4,
 "nbformat_minor": 2,
 "cells": [
  {
   "cell_type": "code",
   "execution_count": 2,
   "metadata": {},
   "outputs": [],
   "source": [
    "import torch\n",
    "\n",
    "x_data = [1.0, 2.0, 3.0]\n",
    "y_data = [2.0, 4.0, 6.0]\n",
    "w = torch.tensor([1.0], requires_grad=True)"
   ]
  },
  {
   "cell_type": "code",
   "execution_count": 5,
   "metadata": {},
   "outputs": [
    {
     "output_type": "stream",
     "name": "stdout",
     "text": [
      "학습 전 예측, 4 시간 공부하면? 점수는: tensor([4.], grad_fn=<MulBackward0>)\n학습 전 Loss 값 4 16\n"
     ]
    }
   ],
   "source": [
    "# our model forward pass\n",
    "def forward(x):\n",
    "    return x * w\n",
    "\n",
    "# Loss function\n",
    "def loss(y_pred, y_val):\n",
    "    return (y_pred - y_val) ** 2\n",
    "\n",
    "# Before training\n",
    "print(\"학습 전 예측, 4 시간 공부하면? 점수는:\", forward(4))\n",
    "\n",
    "# Loss Before training\n",
    "print(\"학습 전 Loss 값\",  4, loss(4, 8))"
   ]
  },
  {
   "cell_type": "code",
   "execution_count": 6,
   "metadata": {},
   "outputs": [
    {
     "output_type": "stream",
     "name": "stdout",
     "text": [
      "\tgrad:  1.0 2.0 -2.0\n\tgrad:  2.0 4.0 -7.840000152587891\n\tgrad:  3.0 6.0 -16.228801727294922\nEpoch: 0 | Loss: 7.315943717956543\n\tgrad:  1.0 2.0 -1.478623867034912\n\tgrad:  2.0 4.0 -5.796205520629883\n\tgrad:  3.0 6.0 -11.998146057128906\nEpoch: 1 | Loss: 3.9987640380859375\n\tgrad:  1.0 2.0 -1.0931644439697266\n\tgrad:  2.0 4.0 -4.285204887390137\n\tgrad:  3.0 6.0 -8.870372772216797\nEpoch: 2 | Loss: 2.1856532096862793\n\tgrad:  1.0 2.0 -0.8081896305084229\n\tgrad:  2.0 4.0 -3.1681032180786133\n\tgrad:  3.0 6.0 -6.557973861694336\nEpoch: 3 | Loss: 1.1946394443511963\n\tgrad:  1.0 2.0 -0.5975041389465332\n\tgrad:  2.0 4.0 -2.3422164916992188\n\tgrad:  3.0 6.0 -4.848389625549316\nEpoch: 4 | Loss: 0.6529689431190491\n\tgrad:  1.0 2.0 -0.4417421817779541\n\tgrad:  2.0 4.0 -1.7316293716430664\n\tgrad:  3.0 6.0 -3.58447265625\nEpoch: 5 | Loss: 0.35690122842788696\n\tgrad:  1.0 2.0 -0.3265852928161621\n\tgrad:  2.0 4.0 -1.2802143096923828\n\tgrad:  3.0 6.0 -2.650045394897461\nEpoch: 6 | Loss: 0.195076122879982\n\tgrad:  1.0 2.0 -0.24144840240478516\n\tgrad:  2.0 4.0 -0.9464778900146484\n\tgrad:  3.0 6.0 -1.9592113494873047\nEpoch: 7 | Loss: 0.10662525147199631\n\tgrad:  1.0 2.0 -0.17850565910339355\n\tgrad:  2.0 4.0 -0.699742317199707\n\tgrad:  3.0 6.0 -1.4484672546386719\nEpoch: 8 | Loss: 0.0582793727517128\n\tgrad:  1.0 2.0 -0.1319713592529297\n\tgrad:  2.0 4.0 -0.5173273086547852\n\tgrad:  3.0 6.0 -1.070866584777832\nEpoch: 9 | Loss: 0.03185431286692619\nPrediction (after training) 4 7.804864406585693\n"
     ]
    }
   ],
   "source": [
    "# Training loop\n",
    "for epoch in range(10):\n",
    "    for x_val, y_val in zip(x_data, y_data):\n",
    "        y_pred = forward(x_val) # 1) Forward pass\n",
    "        l = loss(y_pred, y_val) # 2) Compute loss\n",
    "        l.backward() # 3) Back-propagation 수행\n",
    "        print(\"\\tgrad: \", x_val, y_val, w.grad.item())\n",
    "        w.data = w.data - 0.01 * w.grad.item()\n",
    "\n",
    "        # Manually zero the gradients after updating weights\n",
    "        w.grad.data.zero_()\n",
    "\n",
    "    print(f\"Epoch: {epoch} | Loss: {l.item()}\")\n",
    "\n",
    "# After training\n",
    "print(\"Prediction (after training)\",  4, forward(4).item())"
   ]
  }
 ]
}